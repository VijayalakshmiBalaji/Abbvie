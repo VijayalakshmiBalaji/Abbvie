{
 "cells": [
  {
   "cell_type": "code",
   "execution_count": 1,
   "id": "a6491211",
   "metadata": {},
   "outputs": [],
   "source": [
    "import numpy as np\n",
    "import pandas as pd\n",
    "import datetime as dt"
   ]
  },
  {
   "cell_type": "code",
   "execution_count": 5,
   "id": "bfe56eda",
   "metadata": {},
   "outputs": [],
   "source": [
    "def checkbox(data: str, column: str, check_value: str):\n",
    "    if data[column] == check_value:\n",
    "        print(\"Fill in the required details\")\n",
    "    else:\n",
    "        print(\"Thank you\")"
   ]
  },
  {
   "cell_type": "code",
   "execution_count": 9,
   "id": "f6b17208",
   "metadata": {},
   "outputs": [],
   "source": [
    "data = {'column': 'yes'}"
   ]
  },
  {
   "cell_type": "code",
   "execution_count": 10,
   "id": "51ad1c27",
   "metadata": {},
   "outputs": [
    {
     "name": "stdout",
     "output_type": "stream",
     "text": [
      "Fill in the required details\n"
     ]
    }
   ],
   "source": [
    "checkbox(data, 'column', 'yes')"
   ]
  },
  {
   "cell_type": "code",
   "execution_count": 13,
   "id": "ed1c42e4",
   "metadata": {},
   "outputs": [],
   "source": [
    "data = {'col': 'no'}"
   ]
  },
  {
   "cell_type": "code",
   "execution_count": 15,
   "id": "348ef691",
   "metadata": {},
   "outputs": [
    {
     "name": "stdout",
     "output_type": "stream",
     "text": [
      "Thank you\n"
     ]
    }
   ],
   "source": [
    "checkbox(data, 'col', 'yes')"
   ]
  }
 ],
 "metadata": {
  "kernelspec": {
   "display_name": "Python 3",
   "language": "python",
   "name": "python3"
  },
  "language_info": {
   "codemirror_mode": {
    "name": "ipython",
    "version": 3
   },
   "file_extension": ".py",
   "mimetype": "text/x-python",
   "name": "python",
   "nbconvert_exporter": "python",
   "pygments_lexer": "ipython3",
   "version": "3.8.8"
  }
 },
 "nbformat": 4,
 "nbformat_minor": 5
}
