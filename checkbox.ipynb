{
 "cells": [
  {
   "cell_type": "code",
   "execution_count": 3,
   "id": "a8d65bf6",
   "metadata": {},
   "outputs": [],
   "source": [
    "import numpy as np\n",
    "import pandas as pd\n",
    "import datetime as dt\n",
    "from typing import Any\n",
    "import operator as op\n",
    "from functions.utils import *\n",
    "from functions.single_dataset.checkboxcompare import *"
   ]
  },
  {
   "cell_type": "code",
   "execution_count": 4,
   "id": "0727c872",
   "metadata": {},
   "outputs": [],
   "source": [
    "data = {'Col': 'yes'}"
   ]
  },
  {
   "cell_type": "code",
   "execution_count": 5,
   "id": "6003a983",
   "metadata": {},
   "outputs": [
    {
     "data": {
      "text/plain": [
       "False"
      ]
     },
     "execution_count": 5,
     "metadata": {},
     "output_type": "execute_result"
    }
   ],
   "source": [
    "checkbox(data, 'Col', \"=\", 'no')"
   ]
  },
  {
   "cell_type": "code",
   "execution_count": 6,
   "id": "27a1afd9",
   "metadata": {},
   "outputs": [
    {
     "data": {
      "text/plain": [
       "False"
      ]
     },
     "execution_count": 6,
     "metadata": {},
     "output_type": "execute_result"
    }
   ],
   "source": [
    "checkbox(data, 'Col', \"=\", 'Yes')"
   ]
  },
  {
   "cell_type": "code",
   "execution_count": 7,
   "id": "f1129bd3",
   "metadata": {},
   "outputs": [
    {
     "data": {
      "text/plain": [
       "True"
      ]
     },
     "execution_count": 7,
     "metadata": {},
     "output_type": "execute_result"
    }
   ],
   "source": [
    "checkbox(data, 'Col', \"=\", 'yes')"
   ]
  },
  {
   "cell_type": "code",
   "execution_count": 8,
   "id": "9905d01a",
   "metadata": {},
   "outputs": [
    {
     "data": {
      "text/plain": [
       "True"
      ]
     },
     "execution_count": 8,
     "metadata": {},
     "output_type": "execute_result"
    }
   ],
   "source": [
    "checkbox(data, 'Col', \"!=\", 'no')"
   ]
  }
 ],
 "metadata": {
  "kernelspec": {
   "display_name": "Python 3",
   "language": "python",
   "name": "python3"
  },
  "language_info": {
   "codemirror_mode": {
    "name": "ipython",
    "version": 3
   },
   "file_extension": ".py",
   "mimetype": "text/x-python",
   "name": "python",
   "nbconvert_exporter": "python",
   "pygments_lexer": "ipython3",
   "version": "3.8.8"
  }
 },
 "nbformat": 4,
 "nbformat_minor": 5
}
