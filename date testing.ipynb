{
 "cells": [
  {
   "cell_type": "code",
   "execution_count": null,
   "id": "bf33d177",
   "metadata": {},
   "outputs": [],
   "source": [
    "import pandas as pd\n",
    "import datetime\n",
    "import utils as utils\n",
    "import numpy as np"
   ]
  },
  {
   "cell_type": "code",
   "execution_count": null,
   "id": "f14a30f5",
   "metadata": {},
   "outputs": [],
   "source": [
    "data = {'Date': ['202101', '202111', '20210103', '20210104', '2022']}"
   ]
  },
  {
   "cell_type": "code",
   "execution_count": null,
   "id": "f559074c",
   "metadata": {},
   "outputs": [],
   "source": [
    "df = pd.DataFrame(data)"
   ]
  },
  {
   "cell_type": "code",
   "execution_count": null,
   "id": "51647e39",
   "metadata": {
    "scrolled": true
   },
   "outputs": [],
   "source": [
    "df"
   ]
  },
  {
   "cell_type": "markdown",
   "id": "156e4acd",
   "metadata": {},
   "source": [
    "### Method 1"
   ]
  },
  {
   "cell_type": "code",
   "execution_count": null,
   "id": "78c13fc1",
   "metadata": {},
   "outputs": [],
   "source": [
    "try:\n",
    "    df['Date'] = df['Date'].apply(lambda x: pd.to_datetime(str(x), format='%Y%m%d'))\n",
    "except:\n",
    "    df['Date'] = df['Date'].apply(lambda x: pd.to_datetime(str(x), format='%Y%m', errors='ignore'))"
   ]
  },
  {
   "cell_type": "code",
   "execution_count": null,
   "id": "2709a367",
   "metadata": {},
   "outputs": [],
   "source": [
    "df['Date']"
   ]
  },
  {
   "cell_type": "markdown",
   "id": "5e582b47",
   "metadata": {},
   "source": [
    "### Method 2"
   ]
  },
  {
   "cell_type": "code",
   "execution_count": null,
   "id": "e568963b",
   "metadata": {},
   "outputs": [],
   "source": [
    "def get_date1(x):\n",
    "    if isinstance(x, str):\n",
    "        try:\n",
    "            return_val = parse(x)\n",
    "        except:\n",
    "            if len(x) == 8:\n",
    "                try:\n",
    "                    return_val = datetime.datetime.strptime(x, '%Y%m%d')\n",
    "                except:\n",
    "                    return_val = np.nan\n",
    "            else:\n",
    "                return_val = np.nan\n",
    "    else:\n",
    "        return_val = np.nan\n",
    "    return return_val"
   ]
  },
  {
   "cell_type": "code",
   "execution_count": null,
   "id": "73871807",
   "metadata": {},
   "outputs": [],
   "source": [
    "df['Date'] = df['Date'].apply(get_date1)"
   ]
  },
  {
   "cell_type": "code",
   "execution_count": null,
   "id": "28579794",
   "metadata": {},
   "outputs": [],
   "source": [
    "df['Date']"
   ]
  },
  {
   "cell_type": "markdown",
   "id": "550c0faa",
   "metadata": {},
   "source": [
    "### Method 3"
   ]
  },
  {
   "cell_type": "code",
   "execution_count": null,
   "id": "5be71225",
   "metadata": {},
   "outputs": [],
   "source": [
    "def get_date2(x):\n",
    "    if isinstance(x, str):\n",
    "        try:\n",
    "            return_val = parse(x)\n",
    "        except:\n",
    "            if len(x) > 6:\n",
    "                try:\n",
    "                    return_val = datetime.datetime.strptime(x, '%Y%m%d')\n",
    "                except:\n",
    "                    return_val = np.nan\n",
    "            elif len(x) == 6:\n",
    "                try:\n",
    "                    return_val = datetime.datetime.strptime(x, '%Y%m')\n",
    "                except:\n",
    "                    return_val = np.nan\n",
    "            else:\n",
    "                return_val = np.nan\n",
    "    else:\n",
    "        return_val = np.nan\n",
    "    return return_val"
   ]
  },
  {
   "cell_type": "code",
   "execution_count": null,
   "id": "eae51951",
   "metadata": {},
   "outputs": [],
   "source": [
    "df['Date'] = df['Date'].apply(get_date2)"
   ]
  },
  {
   "cell_type": "code",
   "execution_count": null,
   "id": "038eba0a",
   "metadata": {},
   "outputs": [],
   "source": [
    "df['Date']"
   ]
  },
  {
   "cell_type": "code",
   "execution_count": null,
   "id": "f62b06d4",
   "metadata": {},
   "outputs": [],
   "source": []
  },
  {
   "cell_type": "code",
   "execution_count": null,
   "id": "36c72caf",
   "metadata": {},
   "outputs": [],
   "source": []
  }
 ],
 "metadata": {
  "kernelspec": {
   "display_name": "Python 3 (ipykernel)",
   "language": "python",
   "name": "python3"
  },
  "language_info": {
   "codemirror_mode": {
    "name": "ipython",
    "version": 3
   },
   "file_extension": ".py",
   "mimetype": "text/x-python",
   "name": "python",
   "nbconvert_exporter": "python",
   "pygments_lexer": "ipython3",
   "version": "3.10.1"
  }
 },
 "nbformat": 4,
 "nbformat_minor": 5
}
