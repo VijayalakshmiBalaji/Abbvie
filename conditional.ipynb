{
 "cells": [
  {
   "cell_type": "code",
   "execution_count": 1,
   "id": "79b7b197",
   "metadata": {},
   "outputs": [],
   "source": [
    "import numpy as np\n",
    "import pandas as pd\n",
    "import datetime as dt\n",
    "from typing import Any\n",
    "import operator as op\n",
    "from functions.utils import *\n",
    "from functions.single_dataset.condition1 import *"
   ]
  },
  {
   "cell_type": "code",
   "execution_count": 2,
   "id": "d194ccb5",
   "metadata": {},
   "outputs": [],
   "source": [
    "data = {'Gender': 'Female'}"
   ]
  },
  {
   "cell_type": "code",
   "execution_count": 4,
   "id": "d5cd2fff",
   "metadata": {},
   "outputs": [
    {
     "data": {
      "text/plain": [
       "True"
      ]
     },
     "execution_count": 4,
     "metadata": {},
     "output_type": "execute_result"
    }
   ],
   "source": [
    "condition1(data, 'Gender', '=', 'Female')"
   ]
  },
  {
   "cell_type": "code",
   "execution_count": 5,
   "id": "bf021d06",
   "metadata": {},
   "outputs": [
    {
     "data": {
      "text/plain": [
       "False"
      ]
     },
     "execution_count": 5,
     "metadata": {},
     "output_type": "execute_result"
    }
   ],
   "source": [
    "condition1(data, 'Gender', '!=', 'Female')"
   ]
  },
  {
   "cell_type": "code",
   "execution_count": 6,
   "id": "f0104ad1",
   "metadata": {},
   "outputs": [
    {
     "data": {
      "text/plain": [
       "True"
      ]
     },
     "execution_count": 6,
     "metadata": {},
     "output_type": "execute_result"
    }
   ],
   "source": [
    "condition1(data, 'Gender', '!=', 'male')"
   ]
  },
  {
   "cell_type": "code",
   "execution_count": 7,
   "id": "f540f07e",
   "metadata": {},
   "outputs": [
    {
     "data": {
      "text/plain": [
       "False"
      ]
     },
     "execution_count": 7,
     "metadata": {},
     "output_type": "execute_result"
    }
   ],
   "source": [
    "condition1(data, 'Gender', '=', 'male')"
   ]
  }
 ],
 "metadata": {
  "kernelspec": {
   "display_name": "Python 3",
   "language": "python",
   "name": "python3"
  },
  "language_info": {
   "codemirror_mode": {
    "name": "ipython",
    "version": 3
   },
   "file_extension": ".py",
   "mimetype": "text/x-python",
   "name": "python",
   "nbconvert_exporter": "python",
   "pygments_lexer": "ipython3",
   "version": "3.8.8"
  }
 },
 "nbformat": 4,
 "nbformat_minor": 5
}
