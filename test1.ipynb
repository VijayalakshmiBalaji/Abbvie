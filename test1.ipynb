{
 "cells": [
  {
   "cell_type": "code",
   "execution_count": 1,
   "id": "5b94c011",
   "metadata": {},
   "outputs": [],
   "source": [
    "import pandas as pd\n",
    "import numpy as np"
   ]
  },
  {
   "cell_type": "code",
   "execution_count": 2,
   "id": "c269d71c",
   "metadata": {},
   "outputs": [
    {
     "data": {
      "text/html": [
       "<div>\n",
       "<style scoped>\n",
       "    .dataframe tbody tr th:only-of-type {\n",
       "        vertical-align: middle;\n",
       "    }\n",
       "\n",
       "    .dataframe tbody tr th {\n",
       "        vertical-align: top;\n",
       "    }\n",
       "\n",
       "    .dataframe thead th {\n",
       "        text-align: right;\n",
       "    }\n",
       "</style>\n",
       "<table border=\"1\" class=\"dataframe\">\n",
       "  <thead>\n",
       "    <tr style=\"text-align: right;\">\n",
       "      <th></th>\n",
       "      <th>Check_Number</th>\n",
       "      <th>Dt1</th>\n",
       "      <th>Dt2</th>\n",
       "      <th>Check_Description</th>\n",
       "      <th>Query_Text</th>\n",
       "      <th>Visits/Frequency</th>\n",
       "      <th>Check_Name</th>\n",
       "    </tr>\n",
       "  </thead>\n",
       "  <tbody>\n",
       "    <tr>\n",
       "      <th>0</th>\n",
       "      <td>75</td>\n",
       "      <td>2021-02-03</td>\n",
       "      <td>2021-03-1</td>\n",
       "      <td>Discharge date should be on or before date of ...</td>\n",
       "      <td>Discharge date, [date], is after date of death...</td>\n",
       "      <td>SAE</td>\n",
       "      <td>V_SAE_DIDT_DTHDT_CMP</td>\n",
       "    </tr>\n",
       "    <tr>\n",
       "      <th>1</th>\n",
       "      <td>188</td>\n",
       "      <td>2021-06-03</td>\n",
       "      <td>2021-04-1</td>\n",
       "      <td>Date should be on or before the date of death.</td>\n",
       "      <td>[GRPID] Date is after date of death.  Please c...</td>\n",
       "      <td>TLS</td>\n",
       "      <td>V_CM_TLSDT_DTHDT_CMP</td>\n",
       "    </tr>\n",
       "  </tbody>\n",
       "</table>\n",
       "</div>"
      ],
      "text/plain": [
       "   Check_Number         Dt1        Dt2  \\\n",
       "0            75  2021-02-03  2021-03-1   \n",
       "1           188  2021-06-03  2021-04-1   \n",
       "\n",
       "                                   Check_Description  \\\n",
       "0  Discharge date should be on or before date of ...   \n",
       "1     Date should be on or before the date of death.   \n",
       "\n",
       "                                          Query_Text Visits/Frequency  \\\n",
       "0  Discharge date, [date], is after date of death...              SAE   \n",
       "1  [GRPID] Date is after date of death.  Please c...              TLS   \n",
       "\n",
       "             Check_Name  \n",
       "0  V_SAE_DIDT_DTHDT_CMP  \n",
       "1  V_CM_TLSDT_DTHDT_CMP  "
      ]
     },
     "execution_count": 2,
     "metadata": {},
     "output_type": "execute_result"
    }
   ],
   "source": [
    "df = pd.read_csv(\"untitled.txt\", sep = \"\\t\", parse_dates = True)\n",
    "df"
   ]
  },
  {
   "cell_type": "code",
   "execution_count": 3,
   "id": "1659219b",
   "metadata": {},
   "outputs": [],
   "source": [
    "df['Dt1'] = pd.to_datetime(df['Dt1'])\n",
    "df['Dt2'] = pd.to_datetime(df['Dt2'])"
   ]
  },
  {
   "cell_type": "code",
   "execution_count": 4,
   "id": "5a2c580f",
   "metadata": {},
   "outputs": [],
   "source": [
    "if df['Check_Number'] is not None:\n",
    "        i = [df['Dt1'] <= df['Dt2'], df['Dt1'] > df['Dt2']]\n",
    "        j = ['Valid', 'invalid']\n",
    "        df['k'] = np.select(i,j)"
   ]
  },
  {
   "cell_type": "code",
   "execution_count": 5,
   "id": "31246145",
   "metadata": {},
   "outputs": [
    {
     "data": {
      "text/html": [
       "<div>\n",
       "<style scoped>\n",
       "    .dataframe tbody tr th:only-of-type {\n",
       "        vertical-align: middle;\n",
       "    }\n",
       "\n",
       "    .dataframe tbody tr th {\n",
       "        vertical-align: top;\n",
       "    }\n",
       "\n",
       "    .dataframe thead th {\n",
       "        text-align: right;\n",
       "    }\n",
       "</style>\n",
       "<table border=\"1\" class=\"dataframe\">\n",
       "  <thead>\n",
       "    <tr style=\"text-align: right;\">\n",
       "      <th></th>\n",
       "      <th>Check_Number</th>\n",
       "      <th>Dt1</th>\n",
       "      <th>Dt2</th>\n",
       "      <th>Check_Description</th>\n",
       "      <th>Query_Text</th>\n",
       "      <th>Visits/Frequency</th>\n",
       "      <th>Check_Name</th>\n",
       "      <th>k</th>\n",
       "    </tr>\n",
       "  </thead>\n",
       "  <tbody>\n",
       "    <tr>\n",
       "      <th>0</th>\n",
       "      <td>75</td>\n",
       "      <td>2021-02-03</td>\n",
       "      <td>2021-03-01</td>\n",
       "      <td>Discharge date should be on or before date of ...</td>\n",
       "      <td>Discharge date, [date], is after date of death...</td>\n",
       "      <td>SAE</td>\n",
       "      <td>V_SAE_DIDT_DTHDT_CMP</td>\n",
       "      <td>Valid</td>\n",
       "    </tr>\n",
       "    <tr>\n",
       "      <th>1</th>\n",
       "      <td>188</td>\n",
       "      <td>2021-06-03</td>\n",
       "      <td>2021-04-01</td>\n",
       "      <td>Date should be on or before the date of death.</td>\n",
       "      <td>[GRPID] Date is after date of death.  Please c...</td>\n",
       "      <td>TLS</td>\n",
       "      <td>V_CM_TLSDT_DTHDT_CMP</td>\n",
       "      <td>invalid</td>\n",
       "    </tr>\n",
       "  </tbody>\n",
       "</table>\n",
       "</div>"
      ],
      "text/plain": [
       "   Check_Number        Dt1        Dt2  \\\n",
       "0            75 2021-02-03 2021-03-01   \n",
       "1           188 2021-06-03 2021-04-01   \n",
       "\n",
       "                                   Check_Description  \\\n",
       "0  Discharge date should be on or before date of ...   \n",
       "1     Date should be on or before the date of death.   \n",
       "\n",
       "                                          Query_Text Visits/Frequency  \\\n",
       "0  Discharge date, [date], is after date of death...              SAE   \n",
       "1  [GRPID] Date is after date of death.  Please c...              TLS   \n",
       "\n",
       "             Check_Name        k  \n",
       "0  V_SAE_DIDT_DTHDT_CMP    Valid  \n",
       "1  V_CM_TLSDT_DTHDT_CMP  invalid  "
      ]
     },
     "execution_count": 5,
     "metadata": {},
     "output_type": "execute_result"
    }
   ],
   "source": [
    "df"
   ]
  }
 ],
 "metadata": {
  "kernelspec": {
   "display_name": "Python 3",
   "language": "python",
   "name": "python3"
  },
  "language_info": {
   "codemirror_mode": {
    "name": "ipython",
    "version": 3
   },
   "file_extension": ".py",
   "mimetype": "text/x-python",
   "name": "python",
   "nbconvert_exporter": "python",
   "pygments_lexer": "ipython3",
   "version": "3.8.8"
  }
 },
 "nbformat": 4,
 "nbformat_minor": 5
}
