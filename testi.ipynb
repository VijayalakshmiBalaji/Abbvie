{
 "cells": [
  {
   "cell_type": "code",
   "execution_count": 66,
   "metadata": {
    "tags": []
   },
   "outputs": [
    {
     "name": "stdout",
     "output_type": "stream",
     "text": [
      "['28/10/2021', '26/10/2021']\n",
      "['26/10/2021', '28/10/2021']\n"
     ]
    },
    {
     "data": {
      "text/plain": [
       "False"
      ]
     },
     "execution_count": 66,
     "metadata": {},
     "output_type": "execute_result"
    }
   ],
   "source": [
    "#Date Sorting Check and Time Sorting\n",
    "\n",
    "import pandas as pd\n",
    "def seq_check(data , column):\n",
    "    \n",
    "    x=data[column]\n",
    "    print(x)\n",
    "    y=x[:]\n",
    "    y.sort()\n",
    "    print(y)\n",
    "    flag = 0\n",
    "    for i in range(len(x)) :\n",
    "        \n",
    "        if x[i] != y[i]:\n",
    "            flag += 1\n",
    "    if flag==0:\n",
    "        return True\n",
    "    else : \n",
    "        return False\n",
    "\n",
    "data = {\"column\" : [\"28/10/2021\" , \"26/10/2021\"] }\n",
    "\n",
    "seq_check(data,\"column\")\n"
   ]
  },
  {
   "cell_type": "code",
   "execution_count": 74,
   "metadata": {},
   "outputs": [
    {
     "data": {
      "text/plain": [
       "False"
      ]
     },
     "execution_count": 74,
     "metadata": {},
     "output_type": "execute_result"
    }
   ],
   "source": [
    "#Record Count \n",
    "\n",
    "import pandas as pd\n",
    "def rec_count(data , number):\n",
    "\n",
    "    x = pd.DataFrame.from_dict(data)\n",
    "\n",
    "    count=x.shape[0]\n",
    "    if count>number:\n",
    "        return False\n",
    "    else:\n",
    "        return True\n",
    "\n",
    "\n",
    "data = {\"column\" : [\"28/10/2021\" , \"26/10/2021\"] }\n",
    "\n",
    "rec_count(data,1)\n"
   ]
  },
  {
   "cell_type": "code",
   "execution_count": 1,
   "metadata": {},
   "outputs": [
    {
     "name": "stdout",
     "output_type": "stream",
     "text": [
      "False\n"
     ]
    }
   ],
   "source": [
    "# Condition\n",
    "\n",
    "def condition(data: str, column: str, check_value: str):\n",
    "    if data[column] == check_value:\n",
    "        print(\"True\")\n",
    "    else:\n",
    "        print(\"False\")\n",
    "\n",
    "data = {'Gender': 'Female'}\n",
    "\n",
    "condition(data, 'Gender', 'Male')"
   ]
  },
  {
   "cell_type": "code",
   "execution_count": 2,
   "metadata": {},
   "outputs": [
    {
     "data": {
      "application/javascript": [
       "\n",
       "        if (window._pyforest_update_imports_cell) { window._pyforest_update_imports_cell('import pandas as pd'); }\n",
       "    "
      ],
      "text/plain": [
       "<IPython.core.display.Javascript object>"
      ]
     },
     "metadata": {},
     "output_type": "display_data"
    },
    {
     "data": {
      "text/plain": [
       "0    False\n",
       "1    False\n",
       "Name: Col, dtype: bool"
      ]
     },
     "execution_count": 2,
     "metadata": {},
     "output_type": "execute_result"
    }
   ],
   "source": [
    "# Null Check\n",
    "\n",
    "def null_check(data, column):\n",
    "    data = pd.DataFrame(data)\n",
    "    res = data[column].isnull()\n",
    "    return res\n",
    "\n",
    "data = {\"Col\": [1,0]}\n",
    "\n",
    "null_check(data, \"Col\")"
   ]
  },
  {
   "cell_type": "code",
   "execution_count": 73,
   "metadata": {},
   "outputs": [
    {
     "name": "stdout",
     "output_type": "stream",
     "text": [
      "True\n",
      "False\n",
      "True\n"
     ]
    }
   ],
   "source": [
    "# Date Compare\n",
    "\n",
    "from typing import Any\n",
    "import pandas as pd\n",
    "import operator as op\n",
    "\n",
    "operator_dict = {\n",
    "        '=' : op.eq,\n",
    "        '!=' : op.ne,\n",
    "        '>' : op.gt,\n",
    "        '<' : op.lt,\n",
    "        '>=' : op.ge,\n",
    "        '<=' : op.le\n",
    "        }\n",
    "\n",
    "dtype_dict = {\n",
    "        'str' : str,\n",
    "        'datetime' : pd.to_datetime,\n",
    "        'int' : int,\n",
    "        'float' : float\n",
    "        }\n",
    "\n",
    "\n",
    "def condition(data: Any, column: str, operation: str, check_value: Any, dtype: type):\n",
    "    \n",
    "    data = dtype_dict[dtype](data[column])\n",
    "    check_value = dtype_dict[dtype](check_value)\n",
    "\n",
    "    result = operator_dict[operation](data, check_value)\n",
    "    return result\n",
    "    \n",
    "\n",
    "data = {'column' : 2021-6-2}\n",
    "\n",
    "print(condition(data, 'column', '<=', 2021-4-3, 'datetime'))\n",
    "\n",
    "print(condition(data,'column', '<=', 2021-7-7, 'str'))\n",
    "\n",
    "print(condition(data,'column', '<=', 2021-6-2, 'str'))"
   ]
  },
  {
   "cell_type": "code",
   "execution_count": 74,
   "metadata": {},
   "outputs": [
    {
     "name": "stdout",
     "output_type": "stream",
     "text": [
      "Fill in the required details\n"
     ]
    }
   ],
   "source": [
    "# Check Box Compare\n",
    "\n",
    "def checkbox(data: str, column: str, check_value: str):\n",
    "    if data[column] == check_value:\n",
    "        print(\"Fill in the required details\")\n",
    "    else:\n",
    "        print(\"Thank you\")\n",
    "        \n",
    "data = {'column': 'yes'}\n",
    "\n",
    "checkbox(data, 'column', 'yes')"
   ]
  },
  {
   "cell_type": "code",
   "execution_count": 35,
   "metadata": {},
   "outputs": [],
   "source": [
    "#Date range compare\n",
    "\n",
    "import pandas as pd\n",
    "from typing import Any\n",
    "\n",
    "def date_range(data: str, min_value: str, max_value: str):\n",
    "    return (data > min_value) and (data < max_value)"
   ]
  },
  {
   "cell_type": "code",
   "execution_count": 36,
   "metadata": {},
   "outputs": [
    {
     "data": {
      "text/plain": [
       "True"
      ]
     },
     "execution_count": 36,
     "metadata": {},
     "output_type": "execute_result"
    }
   ],
   "source": [
    "date_range('2021-11-31', '2021-11-11', '2021-12-10')"
   ]
  }
 ],
 "metadata": {
  "colab": {
   "authorship_tag": "ABX9TyNrA8YwrTquWA4xlQ9HcGJs",
   "name": "test.ipynb",
   "provenance": []
  },
  "kernelspec": {
   "display_name": "Python 3",
   "language": "python",
   "name": "python3"
  },
  "language_info": {
   "codemirror_mode": {
    "name": "ipython",
    "version": 3
   },
   "file_extension": ".py",
   "mimetype": "text/x-python",
   "name": "python",
   "nbconvert_exporter": "python",
   "pygments_lexer": "ipython3",
   "version": "3.8.5"
  }
 },
 "nbformat": 4,
 "nbformat_minor": 4
}
