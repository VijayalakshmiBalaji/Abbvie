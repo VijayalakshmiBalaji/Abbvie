{
 "cells": [
  {
   "cell_type": "code",
   "execution_count": 1,
   "metadata": {},
   "outputs": [],
   "source": [
    "from functions.utils import utils\n",
    "from functions.utils import dtypes\n",
    "from functions.single_dataset.condition import *\n",
    "from functions.single_dataset.condition1 import *\n",
    "from functions.single_dataset.checkboxcompare import *\n",
    "from functions.single_dataset.nullcheck import *\n",
    "import numpy"
   ]
  },
  {
   "cell_type": "code",
   "execution_count": 2,
   "metadata": {},
   "outputs": [],
   "source": [
    "data = {'Gender': 'Female'}\n",
    "data1 = {'column' : 2021-6-2}"
   ]
  },
  {
   "cell_type": "code",
   "execution_count": 14,
   "metadata": {},
   "outputs": [
    {
     "name": "stdout",
     "output_type": "stream",
     "text": [
      "False\n"
     ]
    }
   ],
   "source": [
    "# condition and null check\n",
    "if condition1(data, 'Gender', '=', 'Female') == 'True':\n",
    "    if nullcheck(data, 'Gender')== True:\n",
    "        print(True)\n",
    "    else:\n",
    "        print(False)\n",
    "else:\n",
    "    print(False)"
   ]
  },
  {
   "cell_type": "code",
   "execution_count": 10,
   "metadata": {},
   "outputs": [
    {
     "name": "stdout",
     "output_type": "stream",
     "text": [
      "False\n"
     ]
    }
   ],
   "source": [
    "# condition and condition\n",
    "if condition1(data, 'Gender', '=', 'Female') == 'True':\n",
    "    if condition1(data, 'Gender', '=', 'Female') == 'True':\n",
    "        print(\"True\")\n",
    "        \n",
    "    else:\n",
    "        print(\"False\")\n",
    "else:\n",
    "    print(False)"
   ]
  },
  {
   "cell_type": "code",
   "execution_count": 12,
   "metadata": {},
   "outputs": [
    {
     "name": "stdout",
     "output_type": "stream",
     "text": [
      "False\n"
     ]
    }
   ],
   "source": [
    "# condition and datecompare\n",
    "if condition1(data, 'Gender', '=', 'Female') == 'True':\n",
    "    if condition(data1, 'column', '<=', 2021-4-3) == 'True':\n",
    "        print(True)\n",
    "    else:\n",
    "        print(False)\n",
    "else:\n",
    "    print(False)"
   ]
  },
  {
   "cell_type": "code",
   "execution_count": 6,
   "metadata": {},
   "outputs": [
    {
     "name": "stdout",
     "output_type": "stream",
     "text": [
      "False\n"
     ]
    }
   ],
   "source": [
    "if condition1(data, 'Gender', '=', 'Female') == 'True':\n",
    "    if nullcheck(data, 'Gender')== \"True\":\n",
    "        print(\"True\")\n",
    "    else:\n",
    "        print(\"False\")\n",
    "else:\n",
    "    print(\"False\")"
   ]
  }
 ],
 "metadata": {
  "kernelspec": {
   "display_name": "Python 3",
   "language": "python",
   "name": "python3"
  },
  "language_info": {
   "codemirror_mode": {
    "name": "ipython",
    "version": 3
   },
   "file_extension": ".py",
   "mimetype": "text/x-python",
   "name": "python",
   "nbconvert_exporter": "python",
   "pygments_lexer": "ipython3",
   "version": "3.8.5"
  }
 },
 "nbformat": 4,
 "nbformat_minor": 4
}
