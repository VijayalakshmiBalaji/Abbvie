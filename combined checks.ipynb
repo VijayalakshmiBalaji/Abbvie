{
 "cells": [
  {
   "cell_type": "code",
   "execution_count": 1,
   "metadata": {},
   "outputs": [],
   "source": [
    "from functions.utils import utils\n",
    "from functions.utils import dtypes\n",
    "from functions.single_dataset.condition import *\n",
    "from functions.single_dataset.condition1 import *\n",
    "from functions.single_dataset.checkboxcompare import *\n",
    "from functions.single_dataset.nullcheck import *\n",
    "from functions.single_dataset.daterangesearch import *\n",
    "import numpy"
   ]
  },
  {
   "cell_type": "code",
   "execution_count": 2,
   "metadata": {},
   "outputs": [],
   "source": [
    "data = {'Gender': 'Female'}\n",
    "data1 = {'column' : '2021-7-7'}"
   ]
  },
  {
   "cell_type": "code",
   "execution_count": 3,
   "metadata": {},
   "outputs": [
    {
     "name": "stdout",
     "output_type": "stream",
     "text": [
      "False\n"
     ]
    }
   ],
   "source": [
    "# condition and null check\n",
    "if data['Gender'] == 'Female':\n",
    "    if (nullcheck(data1, 'column')) == 'True':\n",
    "        print(True)\n",
    "    else:\n",
    "        print(False)\n",
    "else:\n",
    "    print(False)"
   ]
  },
  {
   "cell_type": "code",
   "execution_count": 4,
   "metadata": {},
   "outputs": [
    {
     "name": "stdout",
     "output_type": "stream",
     "text": [
      "False\n"
     ]
    }
   ],
   "source": [
    "# condition and condition\n",
    "if data['Gender'] == 'Female':\n",
    "    if condition1(data, 'Gender', '=', 'Female') == 'True':\n",
    "        print(\"True\")\n",
    "        \n",
    "    else:\n",
    "        print(\"False\")\n",
    "else:\n",
    "    print(False)"
   ]
  },
  {
   "cell_type": "code",
   "execution_count": 5,
   "metadata": {},
   "outputs": [
    {
     "name": "stdout",
     "output_type": "stream",
     "text": [
      "True\n"
     ]
    }
   ],
   "source": [
    "# condition and datecompare\n",
    "if data['Gender'] == 'Female':\n",
    "    if condition(data1, 'column', '<=', '2021-9-8') == True:\n",
    "        print(True)\n",
    "    else:\n",
    "        print(False)\n",
    "else:\n",
    "    print(False)"
   ]
  },
  {
   "cell_type": "code",
   "execution_count": 6,
   "metadata": {},
   "outputs": [],
   "source": [
    "data3 = {'Column': '2021-3-9', 'min_date_col': '2021-2-9', 'max_date_col': '2021-12-9'}"
   ]
  },
  {
   "cell_type": "code",
   "execution_count": 9,
   "metadata": {},
   "outputs": [],
   "source": [
    "date_range_search(data3, 'Column', 'min_date_col', 'max_date_col')"
   ]
  },
  {
   "cell_type": "code",
   "execution_count": 15,
   "metadata": {},
   "outputs": [
    {
     "name": "stdout",
     "output_type": "stream",
     "text": [
      "False\n"
     ]
    }
   ],
   "source": [
    "# Null Check, Date Range, Null Check\n",
    "\n",
    "if data1['column'] is not None:\n",
    "    if date_range_search(data3, 'Column', 'min_date_col', 'max_date_col') == 'True':\n",
    "        print(nullcheck(data1, 'column'))\n",
    "    else:\n",
    "        print(False)\n",
    "else:\n",
    "    print(False)    "
   ]
  },
  {
   "cell_type": "code",
   "execution_count": 25,
   "metadata": {},
   "outputs": [
    {
     "name": "stdout",
     "output_type": "stream",
     "text": [
      "False\n"
     ]
    }
   ],
   "source": [
    "# Date range compare, condition\n",
    "\n",
    "if ((data3['Column'] > data3['min_date_col']) and (data3['Column'] < data3['max_date_col']))== True:\n",
    "    print(condition1(data, 'Gender', '=', 'Female'))\n",
    "else:\n",
    "    print(False)\n"
   ]
  },
  {
   "cell_type": "code",
   "execution_count": 26,
   "metadata": {},
   "outputs": [],
   "source": [
    "data4 = {'column': 'yes'}"
   ]
  },
  {
   "cell_type": "code",
   "execution_count": 28,
   "metadata": {},
   "outputs": [
    {
     "name": "stdout",
     "output_type": "stream",
     "text": [
      "True\n"
     ]
    }
   ],
   "source": [
    "# Check box compare and condition\n",
    "\n",
    "if data4['column'] == 'yes':\n",
    "    print(condition1(data, 'Gender', '=', 'Female'))\n",
    "else:\n",
    "    print(False)"
   ]
  },
  {
   "cell_type": "code",
   "execution_count": 29,
   "metadata": {},
   "outputs": [
    {
     "name": "stdout",
     "output_type": "stream",
     "text": [
      "True\n"
     ]
    }
   ],
   "source": [
    "if condition1(data, 'Gender', '=', 'Female') == True:\n",
    "    print(condition1(data, 'Gender', '=', 'Female'))"
   ]
  }
 ],
 "metadata": {
  "kernelspec": {
   "display_name": "Python 3",
   "language": "python",
   "name": "python3"
  },
  "language_info": {
   "codemirror_mode": {
    "name": "ipython",
    "version": 3
   },
   "file_extension": ".py",
   "mimetype": "text/x-python",
   "name": "python",
   "nbconvert_exporter": "python",
   "pygments_lexer": "ipython3",
   "version": "3.8.5"
  }
 },
 "nbformat": 4,
 "nbformat_minor": 4
}
