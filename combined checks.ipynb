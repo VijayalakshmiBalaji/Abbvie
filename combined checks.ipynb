{
 "cells": [
  {
   "cell_type": "code",
   "execution_count": 1,
   "metadata": {},
   "outputs": [],
   "source": [
    "from functions.utils import utils\n",
    "from functions.utils import dtypes\n",
    "from functions.single_dataset.condition import *\n",
    "from functions.single_dataset.condition1 import *\n",
    "from functions.single_dataset.checkboxcompare import *\n",
    "from functions.single_dataset.nullcheck import *\n",
    "import numpy"
   ]
  },
  {
   "cell_type": "code",
   "execution_count": 2,
   "metadata": {},
   "outputs": [],
   "source": [
    "data = {'Gender': ['Female', numpy.nan]}\n",
    "data1 = {'column' : 2021-6-2}"
   ]
  },
  {
   "cell_type": "code",
   "execution_count": 3,
   "metadata": {},
   "outputs": [],
   "source": [
    "# condition and null check\n",
    "if condition1(data, 'Gender', '=', 'Female') == 'True':\n",
    "    nullcheck(data, 'Gender')"
   ]
  },
  {
   "cell_type": "code",
   "execution_count": 4,
   "metadata": {},
   "outputs": [],
   "source": [
    "# condition and condition\n",
    "if condition1(data, 'Gender', '=', 'Female') == 'True':\n",
    "    condition1(data, 'Gender', '=', 'Female')"
   ]
  },
  {
   "cell_type": "code",
   "execution_count": 5,
   "metadata": {},
   "outputs": [],
   "source": [
    "# condition and datecompare\n",
    "if condition1(data, 'Gender', '=', 'Female') == 'True':\n",
    "    condition(data1, 'column', '<=', 2021-4-3)"
   ]
  }
 ],
 "metadata": {
  "kernelspec": {
   "display_name": "Python 3",
   "language": "python",
   "name": "python3"
  },
  "language_info": {
   "codemirror_mode": {
    "name": "ipython",
    "version": 3
   },
   "file_extension": ".py",
   "mimetype": "text/x-python",
   "name": "python",
   "nbconvert_exporter": "python",
   "pygments_lexer": "ipython3",
   "version": "3.8.5"
  }
 },
 "nbformat": 4,
 "nbformat_minor": 4
}
