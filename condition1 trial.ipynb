{
 "cells": [
  {
   "cell_type": "code",
   "execution_count": 1,
   "id": "063ddf78",
   "metadata": {},
   "outputs": [],
   "source": [
    "import numpy as np\n",
    "import pandas as pd\n",
    "import datetime as dt"
   ]
  },
  {
   "cell_type": "code",
   "execution_count": 2,
   "id": "44bb1e34",
   "metadata": {},
   "outputs": [],
   "source": [
    "def condition(data: str, column: str, check_value: str):\n",
    "    if data[column] == check_value:\n",
    "        print(\"True\")\n",
    "    else:\n",
    "        print(\"False\")"
   ]
  },
  {
   "cell_type": "code",
   "execution_count": 3,
   "id": "15b47f3d",
   "metadata": {},
   "outputs": [],
   "source": [
    "data = {'Gender': 'Female'}"
   ]
  },
  {
   "cell_type": "code",
   "execution_count": 4,
   "id": "2f84246e",
   "metadata": {},
   "outputs": [
    {
     "name": "stdout",
     "output_type": "stream",
     "text": [
      "False\n"
     ]
    }
   ],
   "source": [
    "condition(data, 'Gender', 'Male')"
   ]
  },
  {
   "cell_type": "code",
   "execution_count": 5,
   "id": "c39a2220",
   "metadata": {},
   "outputs": [
    {
     "name": "stdout",
     "output_type": "stream",
     "text": [
      "True\n"
     ]
    }
   ],
   "source": [
    "condition(data, 'Gender', 'Female')"
   ]
  }
 ],
 "metadata": {
  "kernelspec": {
   "display_name": "Python 3",
   "language": "python",
   "name": "python3"
  },
  "language_info": {
   "codemirror_mode": {
    "name": "ipython",
    "version": 3
   },
   "file_extension": ".py",
   "mimetype": "text/x-python",
   "name": "python",
   "nbconvert_exporter": "python",
   "pygments_lexer": "ipython3",
   "version": "3.8.8"
  }
 },
 "nbformat": 4,
 "nbformat_minor": 5
}
