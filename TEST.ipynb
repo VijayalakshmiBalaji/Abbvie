{
 "cells": [
  {
   "cell_type": "code",
   "execution_count": 85,
   "id": "058203cf",
   "metadata": {},
   "outputs": [],
   "source": [
    "import numpy as np\n",
    "import pandas as pd\n",
    "import datetime as dt\n",
    "from typing import Any\n",
    "import operator as op\n",
    "from functions.utils import *\n",
    "from functions.single_dataset.condition import *"
   ]
  },
  {
   "cell_type": "code",
   "execution_count": 100,
   "id": "80b8f69a",
   "metadata": {},
   "outputs": [],
   "source": [
    "data = {'column' : 2021-3-2}"
   ]
  },
  {
   "cell_type": "code",
   "execution_count": 101,
   "id": "6519c8b4",
   "metadata": {},
   "outputs": [
    {
     "data": {
      "text/plain": [
       "False"
      ]
     },
     "execution_count": 101,
     "metadata": {},
     "output_type": "execute_result"
    }
   ],
   "source": [
    "condition(data,'column', '<=', 2021-4-3)"
   ]
  },
  {
   "cell_type": "code",
   "execution_count": 113,
   "id": "cb83d274",
   "metadata": {},
   "outputs": [],
   "source": [
    "df = pd.read_csv('untitled.txt', sep = '\\t')"
   ]
  },
  {
   "cell_type": "code",
   "execution_count": 114,
   "id": "e7aafc9b",
   "metadata": {},
   "outputs": [
    {
     "data": {
      "text/html": [
       "<div>\n",
       "<style scoped>\n",
       "    .dataframe tbody tr th:only-of-type {\n",
       "        vertical-align: middle;\n",
       "    }\n",
       "\n",
       "    .dataframe tbody tr th {\n",
       "        vertical-align: top;\n",
       "    }\n",
       "\n",
       "    .dataframe thead th {\n",
       "        text-align: right;\n",
       "    }\n",
       "</style>\n",
       "<table border=\"1\" class=\"dataframe\">\n",
       "  <thead>\n",
       "    <tr style=\"text-align: right;\">\n",
       "      <th></th>\n",
       "      <th>Check_Number</th>\n",
       "      <th>Dt1</th>\n",
       "      <th>Dt2</th>\n",
       "      <th>Check_Description</th>\n",
       "      <th>Query_Text</th>\n",
       "      <th>Visits/Frequency</th>\n",
       "      <th>Check_Name</th>\n",
       "    </tr>\n",
       "  </thead>\n",
       "  <tbody>\n",
       "    <tr>\n",
       "      <th>0</th>\n",
       "      <td>75</td>\n",
       "      <td>2021-02-03</td>\n",
       "      <td>2021-03-1</td>\n",
       "      <td>Discharge date should be on or before date of ...</td>\n",
       "      <td>Discharge date, [date], is after date of death...</td>\n",
       "      <td>SAE</td>\n",
       "      <td>V_SAE_DIDT_DTHDT_CMP</td>\n",
       "    </tr>\n",
       "    <tr>\n",
       "      <th>1</th>\n",
       "      <td>188</td>\n",
       "      <td>2021-06-03</td>\n",
       "      <td>2021-04-1</td>\n",
       "      <td>Date should be on or before the date of death.</td>\n",
       "      <td>[GRPID] Date is after date of death.  Please c...</td>\n",
       "      <td>TLS</td>\n",
       "      <td>V_CM_TLSDT_DTHDT_CMP</td>\n",
       "    </tr>\n",
       "  </tbody>\n",
       "</table>\n",
       "</div>"
      ],
      "text/plain": [
       "   Check_Number         Dt1        Dt2  \\\n",
       "0            75  2021-02-03  2021-03-1   \n",
       "1           188  2021-06-03  2021-04-1   \n",
       "\n",
       "                                   Check_Description  \\\n",
       "0  Discharge date should be on or before date of ...   \n",
       "1     Date should be on or before the date of death.   \n",
       "\n",
       "                                          Query_Text Visits/Frequency  \\\n",
       "0  Discharge date, [date], is after date of death...              SAE   \n",
       "1  [GRPID] Date is after date of death.  Please c...              TLS   \n",
       "\n",
       "             Check_Name  \n",
       "0  V_SAE_DIDT_DTHDT_CMP  \n",
       "1  V_CM_TLSDT_DTHDT_CMP  "
      ]
     },
     "execution_count": 114,
     "metadata": {},
     "output_type": "execute_result"
    }
   ],
   "source": [
    "df"
   ]
  },
  {
   "cell_type": "code",
   "execution_count": 115,
   "id": "7f0df449",
   "metadata": {},
   "outputs": [
    {
     "data": {
      "text/plain": [
       "0    True\n",
       "1    True\n",
       "Name: Dt1, dtype: bool"
      ]
     },
     "execution_count": 115,
     "metadata": {},
     "output_type": "execute_result"
    }
   ],
   "source": [
    "condition(df, 'Dt1', '<=', 'Dt2')"
   ]
  }
 ],
 "metadata": {
  "kernelspec": {
   "display_name": "Python 3",
   "language": "python",
   "name": "python3"
  },
  "language_info": {
   "codemirror_mode": {
    "name": "ipython",
    "version": 3
   },
   "file_extension": ".py",
   "mimetype": "text/x-python",
   "name": "python",
   "nbconvert_exporter": "python",
   "pygments_lexer": "ipython3",
   "version": "3.8.8"
  }
 },
 "nbformat": 4,
 "nbformat_minor": 5
}
